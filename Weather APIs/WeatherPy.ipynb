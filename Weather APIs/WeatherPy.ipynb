{
 "cells": [
  {
   "cell_type": "markdown",
   "metadata": {},
   "source": [
    "# WeatherPy\n",
    "----\n",
    "\n",
    "#### Note\n",
    "* Instructions have been included for each segment. You do not have to follow them exactly, but they are included to help you think through the steps."
   ]
  },
  {
   "cell_type": "code",
   "execution_count": 19,
   "metadata": {
    "scrolled": true
   },
   "outputs": [],
   "source": [
    "# Dependencies and Setup\n",
    "import matplotlib.pyplot as plt\n",
    "import pandas as pd\n",
    "import numpy as np\n",
    "import requests\n",
    "import time\n",
    "from scipy.stats import linregress\n",
    "\n",
    "\n",
    "# Import API key\n",
    "from api_keys import weather_api_key\n",
    "\n",
    "# Incorporated citipy to determine city based on latitude and longitude\n",
    "from citipy import citipy\n",
    "\n",
    "# Output File (CSV)\n",
    "output_data_file = \"output_data/cities.csv\"\n",
    "\n",
    "# Range of latitudes and longitudes\n",
    "lat_range = (-90, 90)\n",
    "lng_range = (-180, 180)"
   ]
  },
  {
   "cell_type": "markdown",
   "metadata": {},
   "source": [
    "## Generate Cities List"
   ]
  },
  {
   "cell_type": "code",
   "execution_count": 2,
   "metadata": {},
   "outputs": [
    {
     "data": {
      "text/plain": [
       "622"
      ]
     },
     "execution_count": 2,
     "metadata": {},
     "output_type": "execute_result"
    }
   ],
   "source": [
    "# List for holding lat_lngs and cities\n",
    "lat_lngs = []\n",
    "cities = []\n",
    "\n",
    "# Create a set of random lat and lng combinations\n",
    "lats = np.random.uniform(lat_range[0], lat_range[1], size=1500)\n",
    "lngs = np.random.uniform(lng_range[0], lng_range[1], size=1500)\n",
    "lat_lngs = zip(lats, lngs)\n",
    "\n",
    "# Identify nearest city for each lat, lng combination\n",
    "for lat_lng in lat_lngs:\n",
    "    city = citipy.nearest_city(lat_lng[0], lat_lng[1]).city_name\n",
    "    \n",
    "    # If the city is unique, then add it to a our cities list\n",
    "    if city not in cities:\n",
    "        cities.append(city)\n",
    "\n",
    "# Print the city count to confirm sufficient count\n",
    "len(cities)"
   ]
  },
  {
   "cell_type": "markdown",
   "metadata": {},
   "source": [
    "### Perform API Calls\n",
    "* Perform a weather check on each city using a series of successive API calls.\n",
    "* Include a print log of each city as it'sbeing processed (with the city number and city name).\n"
   ]
  },
  {
   "cell_type": "code",
   "execution_count": 3,
   "metadata": {
    "scrolled": true
   },
   "outputs": [],
   "source": [
    "# Save config information\n",
    "url = \"http://api.openweathermap.org/data/2.5/weather?q=\"\n",
    "units = \"metric\"\n",
    "\n",
    "# Build partial query URL\n",
    "query_url = f\"&appid={weather_api_key}&units={units}\"\n",
    "\n",
    "# set up lists to hold reponse info\n",
    "lat = []\n",
    "lng = []\n",
    "temp = []\n",
    "cloudiness = []\n",
    "humidity = []\n",
    "wind = []\n",
    "country = []\n",
    "dt = []\n",
    "\n",
    "# Loop through the list of cities and perform a request for data on each\n",
    "for city in cities:\n",
    "    response = requests.get(url + str(city) + query_url).json()\n",
    "    try:\n",
    "        lat.append(response['coord']['lat'])\n",
    "    except: \n",
    "        lat.append(\"NA\")\n",
    "    try:\n",
    "        temp.append(response['main']['temp_max'])\n",
    "    except:\n",
    "        temp.append(\"NA\")\n",
    "    try:    \n",
    "        lng.append(response['coord']['lon'])\n",
    "    except:\n",
    "        lng.append(\"NA\")\n",
    "    try:\n",
    "        cloudiness.append(response['clouds']['all'])\n",
    "    except:\n",
    "        cloudiness.append(\"NA\")\n",
    "    try:\n",
    "        humidity.append(response['main']['humidity'])\n",
    "    except:\n",
    "        humidity.append(\"NA\")\n",
    "    try:\n",
    "        wind.append(response['wind']['speed'])\n",
    "    except:\n",
    "        wind.append(\"NA\")\n",
    "    try:\n",
    "        country.append(response['sys']['country'])\n",
    "    except:\n",
    "        country.append(\"NA\")\n",
    "    try:\n",
    "        dt.append(response['dt'])\n",
    "    except:\n",
    "        dt.append(\"NA\")\n"
   ]
  },
  {
   "cell_type": "code",
   "execution_count": 5,
   "metadata": {},
   "outputs": [
    {
     "data": {
      "text/html": [
       "<div>\n",
       "<style scoped>\n",
       "    .dataframe tbody tr th:only-of-type {\n",
       "        vertical-align: middle;\n",
       "    }\n",
       "\n",
       "    .dataframe tbody tr th {\n",
       "        vertical-align: top;\n",
       "    }\n",
       "\n",
       "    .dataframe thead th {\n",
       "        text-align: right;\n",
       "    }\n",
       "</style>\n",
       "<table border=\"1\" class=\"dataframe\">\n",
       "  <thead>\n",
       "    <tr style=\"text-align: right;\">\n",
       "      <th></th>\n",
       "      <th>City</th>\n",
       "      <th>Lat</th>\n",
       "      <th>Lng</th>\n",
       "      <th>Max Temp</th>\n",
       "      <th>Humidity</th>\n",
       "      <th>Cloudiness</th>\n",
       "      <th>Wind Speed</th>\n",
       "      <th>Country</th>\n",
       "      <th>Date/Time</th>\n",
       "    </tr>\n",
       "  </thead>\n",
       "  <tbody>\n",
       "    <tr>\n",
       "      <th>0</th>\n",
       "      <td>bambous virieux</td>\n",
       "      <td>-20.3428</td>\n",
       "      <td>57.7575</td>\n",
       "      <td>20.68</td>\n",
       "      <td>77</td>\n",
       "      <td>75</td>\n",
       "      <td>5.66</td>\n",
       "      <td>MU</td>\n",
       "      <td>1660332771</td>\n",
       "    </tr>\n",
       "    <tr>\n",
       "      <th>1</th>\n",
       "      <td>ushuaia</td>\n",
       "      <td>-54.8</td>\n",
       "      <td>-68.3</td>\n",
       "      <td>3.81</td>\n",
       "      <td>60</td>\n",
       "      <td>0</td>\n",
       "      <td>1.03</td>\n",
       "      <td>AR</td>\n",
       "      <td>1660332573</td>\n",
       "    </tr>\n",
       "    <tr>\n",
       "      <th>2</th>\n",
       "      <td>belem</td>\n",
       "      <td>-1.4558</td>\n",
       "      <td>-48.5044</td>\n",
       "      <td>30.02</td>\n",
       "      <td>74</td>\n",
       "      <td>40</td>\n",
       "      <td>5.66</td>\n",
       "      <td>BR</td>\n",
       "      <td>1660332732</td>\n",
       "    </tr>\n",
       "    <tr>\n",
       "      <th>3</th>\n",
       "      <td>fairbanks</td>\n",
       "      <td>64.8378</td>\n",
       "      <td>-147.7164</td>\n",
       "      <td>18.9</td>\n",
       "      <td>61</td>\n",
       "      <td>75</td>\n",
       "      <td>1.54</td>\n",
       "      <td>US</td>\n",
       "      <td>1660332772</td>\n",
       "    </tr>\n",
       "    <tr>\n",
       "      <th>4</th>\n",
       "      <td>saint-philippe</td>\n",
       "      <td>-21.3585</td>\n",
       "      <td>55.7679</td>\n",
       "      <td>18.77</td>\n",
       "      <td>79</td>\n",
       "      <td>73</td>\n",
       "      <td>6.59</td>\n",
       "      <td>RE</td>\n",
       "      <td>1660332772</td>\n",
       "    </tr>\n",
       "    <tr>\n",
       "      <th>...</th>\n",
       "      <td>...</td>\n",
       "      <td>...</td>\n",
       "      <td>...</td>\n",
       "      <td>...</td>\n",
       "      <td>...</td>\n",
       "      <td>...</td>\n",
       "      <td>...</td>\n",
       "      <td>...</td>\n",
       "      <td>...</td>\n",
       "    </tr>\n",
       "    <tr>\n",
       "      <th>617</th>\n",
       "      <td>poya</td>\n",
       "      <td>-21.35</td>\n",
       "      <td>165.15</td>\n",
       "      <td>19.62</td>\n",
       "      <td>70</td>\n",
       "      <td>51</td>\n",
       "      <td>3.4</td>\n",
       "      <td>NC</td>\n",
       "      <td>1660332944</td>\n",
       "    </tr>\n",
       "    <tr>\n",
       "      <th>618</th>\n",
       "      <td>kavaratti</td>\n",
       "      <td>10.5669</td>\n",
       "      <td>72.642</td>\n",
       "      <td>27.13</td>\n",
       "      <td>84</td>\n",
       "      <td>63</td>\n",
       "      <td>6.51</td>\n",
       "      <td>IN</td>\n",
       "      <td>1660332944</td>\n",
       "    </tr>\n",
       "    <tr>\n",
       "      <th>619</th>\n",
       "      <td>san julian</td>\n",
       "      <td>21.0167</td>\n",
       "      <td>-102.1667</td>\n",
       "      <td>25.94</td>\n",
       "      <td>32</td>\n",
       "      <td>90</td>\n",
       "      <td>1.7</td>\n",
       "      <td>MX</td>\n",
       "      <td>1660332944</td>\n",
       "    </tr>\n",
       "    <tr>\n",
       "      <th>620</th>\n",
       "      <td>namatanai</td>\n",
       "      <td>-3.6667</td>\n",
       "      <td>152.4333</td>\n",
       "      <td>25.22</td>\n",
       "      <td>82</td>\n",
       "      <td>100</td>\n",
       "      <td>2.54</td>\n",
       "      <td>PG</td>\n",
       "      <td>1660332945</td>\n",
       "    </tr>\n",
       "    <tr>\n",
       "      <th>621</th>\n",
       "      <td>skibbereen</td>\n",
       "      <td>51.55</td>\n",
       "      <td>-9.2667</td>\n",
       "      <td>18.47</td>\n",
       "      <td>81</td>\n",
       "      <td>0</td>\n",
       "      <td>1.41</td>\n",
       "      <td>IE</td>\n",
       "      <td>1660332945</td>\n",
       "    </tr>\n",
       "  </tbody>\n",
       "</table>\n",
       "<p>622 rows × 9 columns</p>\n",
       "</div>"
      ],
      "text/plain": [
       "                City      Lat       Lng Max Temp Humidity Cloudiness  \\\n",
       "0    bambous virieux -20.3428   57.7575    20.68       77         75   \n",
       "1            ushuaia    -54.8     -68.3     3.81       60          0   \n",
       "2              belem  -1.4558  -48.5044    30.02       74         40   \n",
       "3          fairbanks  64.8378 -147.7164     18.9       61         75   \n",
       "4     saint-philippe -21.3585   55.7679    18.77       79         73   \n",
       "..               ...      ...       ...      ...      ...        ...   \n",
       "617             poya   -21.35    165.15    19.62       70         51   \n",
       "618        kavaratti  10.5669    72.642    27.13       84         63   \n",
       "619       san julian  21.0167 -102.1667    25.94       32         90   \n",
       "620        namatanai  -3.6667  152.4333    25.22       82        100   \n",
       "621       skibbereen    51.55   -9.2667    18.47       81          0   \n",
       "\n",
       "    Wind Speed Country   Date/Time  \n",
       "0         5.66      MU  1660332771  \n",
       "1         1.03      AR  1660332573  \n",
       "2         5.66      BR  1660332732  \n",
       "3         1.54      US  1660332772  \n",
       "4         6.59      RE  1660332772  \n",
       "..         ...     ...         ...  \n",
       "617        3.4      NC  1660332944  \n",
       "618       6.51      IN  1660332944  \n",
       "619        1.7      MX  1660332944  \n",
       "620       2.54      PG  1660332945  \n",
       "621       1.41      IE  1660332945  \n",
       "\n",
       "[622 rows x 9 columns]"
      ]
     },
     "execution_count": 5,
     "metadata": {},
     "output_type": "execute_result"
    }
   ],
   "source": [
    "# create a data frame from cities, lat, lng, temp, cloudiness, and humidity\n",
    "weather_dict = {\n",
    "    \"City\": cities,\n",
    "    \"Lat\": lat,\n",
    "    \"Lng\": lng,\n",
    "    \"Max Temp\": temp,\n",
    "    \"Humidity\": humidity,\n",
    "    \"Cloudiness\": cloudiness,\n",
    "    \"Wind Speed\": wind,\n",
    "    \"Country\": country,\n",
    "    \"Date/Time\": dt\n",
    "}\n",
    "weather_data = pd.DataFrame(weather_dict)\n",
    "weather_data"
   ]
  },
  {
   "cell_type": "code",
   "execution_count": 6,
   "metadata": {},
   "outputs": [
    {
     "data": {
      "text/html": [
       "<div>\n",
       "<style scoped>\n",
       "    .dataframe tbody tr th:only-of-type {\n",
       "        vertical-align: middle;\n",
       "    }\n",
       "\n",
       "    .dataframe tbody tr th {\n",
       "        vertical-align: top;\n",
       "    }\n",
       "\n",
       "    .dataframe thead th {\n",
       "        text-align: right;\n",
       "    }\n",
       "</style>\n",
       "<table border=\"1\" class=\"dataframe\">\n",
       "  <thead>\n",
       "    <tr style=\"text-align: right;\">\n",
       "      <th></th>\n",
       "      <th>City</th>\n",
       "      <th>Lat</th>\n",
       "      <th>Lng</th>\n",
       "      <th>Max Temp</th>\n",
       "      <th>Humidity</th>\n",
       "      <th>Cloudiness</th>\n",
       "      <th>Wind Speed</th>\n",
       "      <th>Country</th>\n",
       "      <th>Date/Time</th>\n",
       "    </tr>\n",
       "  </thead>\n",
       "  <tbody>\n",
       "    <tr>\n",
       "      <th>0</th>\n",
       "      <td>bambous virieux</td>\n",
       "      <td>-20.3428</td>\n",
       "      <td>57.7575</td>\n",
       "      <td>20.68</td>\n",
       "      <td>77</td>\n",
       "      <td>75</td>\n",
       "      <td>5.66</td>\n",
       "      <td>MU</td>\n",
       "      <td>1660332771</td>\n",
       "    </tr>\n",
       "    <tr>\n",
       "      <th>1</th>\n",
       "      <td>ushuaia</td>\n",
       "      <td>-54.8</td>\n",
       "      <td>-68.3</td>\n",
       "      <td>3.81</td>\n",
       "      <td>60</td>\n",
       "      <td>0</td>\n",
       "      <td>1.03</td>\n",
       "      <td>AR</td>\n",
       "      <td>1660332573</td>\n",
       "    </tr>\n",
       "    <tr>\n",
       "      <th>2</th>\n",
       "      <td>belem</td>\n",
       "      <td>-1.4558</td>\n",
       "      <td>-48.5044</td>\n",
       "      <td>30.02</td>\n",
       "      <td>74</td>\n",
       "      <td>40</td>\n",
       "      <td>5.66</td>\n",
       "      <td>BR</td>\n",
       "      <td>1660332732</td>\n",
       "    </tr>\n",
       "    <tr>\n",
       "      <th>3</th>\n",
       "      <td>fairbanks</td>\n",
       "      <td>64.8378</td>\n",
       "      <td>-147.7164</td>\n",
       "      <td>18.9</td>\n",
       "      <td>61</td>\n",
       "      <td>75</td>\n",
       "      <td>1.54</td>\n",
       "      <td>US</td>\n",
       "      <td>1660332772</td>\n",
       "    </tr>\n",
       "    <tr>\n",
       "      <th>4</th>\n",
       "      <td>saint-philippe</td>\n",
       "      <td>-21.3585</td>\n",
       "      <td>55.7679</td>\n",
       "      <td>18.77</td>\n",
       "      <td>79</td>\n",
       "      <td>73</td>\n",
       "      <td>6.59</td>\n",
       "      <td>RE</td>\n",
       "      <td>1660332772</td>\n",
       "    </tr>\n",
       "    <tr>\n",
       "      <th>...</th>\n",
       "      <td>...</td>\n",
       "      <td>...</td>\n",
       "      <td>...</td>\n",
       "      <td>...</td>\n",
       "      <td>...</td>\n",
       "      <td>...</td>\n",
       "      <td>...</td>\n",
       "      <td>...</td>\n",
       "      <td>...</td>\n",
       "    </tr>\n",
       "    <tr>\n",
       "      <th>617</th>\n",
       "      <td>poya</td>\n",
       "      <td>-21.35</td>\n",
       "      <td>165.15</td>\n",
       "      <td>19.62</td>\n",
       "      <td>70</td>\n",
       "      <td>51</td>\n",
       "      <td>3.4</td>\n",
       "      <td>NC</td>\n",
       "      <td>1660332944</td>\n",
       "    </tr>\n",
       "    <tr>\n",
       "      <th>618</th>\n",
       "      <td>kavaratti</td>\n",
       "      <td>10.5669</td>\n",
       "      <td>72.642</td>\n",
       "      <td>27.13</td>\n",
       "      <td>84</td>\n",
       "      <td>63</td>\n",
       "      <td>6.51</td>\n",
       "      <td>IN</td>\n",
       "      <td>1660332944</td>\n",
       "    </tr>\n",
       "    <tr>\n",
       "      <th>619</th>\n",
       "      <td>san julian</td>\n",
       "      <td>21.0167</td>\n",
       "      <td>-102.1667</td>\n",
       "      <td>25.94</td>\n",
       "      <td>32</td>\n",
       "      <td>90</td>\n",
       "      <td>1.7</td>\n",
       "      <td>MX</td>\n",
       "      <td>1660332944</td>\n",
       "    </tr>\n",
       "    <tr>\n",
       "      <th>620</th>\n",
       "      <td>namatanai</td>\n",
       "      <td>-3.6667</td>\n",
       "      <td>152.4333</td>\n",
       "      <td>25.22</td>\n",
       "      <td>82</td>\n",
       "      <td>100</td>\n",
       "      <td>2.54</td>\n",
       "      <td>PG</td>\n",
       "      <td>1660332945</td>\n",
       "    </tr>\n",
       "    <tr>\n",
       "      <th>621</th>\n",
       "      <td>skibbereen</td>\n",
       "      <td>51.55</td>\n",
       "      <td>-9.2667</td>\n",
       "      <td>18.47</td>\n",
       "      <td>81</td>\n",
       "      <td>0</td>\n",
       "      <td>1.41</td>\n",
       "      <td>IE</td>\n",
       "      <td>1660332945</td>\n",
       "    </tr>\n",
       "  </tbody>\n",
       "</table>\n",
       "<p>568 rows × 9 columns</p>\n",
       "</div>"
      ],
      "text/plain": [
       "                City      Lat       Lng Max Temp Humidity Cloudiness  \\\n",
       "0    bambous virieux -20.3428   57.7575    20.68       77         75   \n",
       "1            ushuaia    -54.8     -68.3     3.81       60          0   \n",
       "2              belem  -1.4558  -48.5044    30.02       74         40   \n",
       "3          fairbanks  64.8378 -147.7164     18.9       61         75   \n",
       "4     saint-philippe -21.3585   55.7679    18.77       79         73   \n",
       "..               ...      ...       ...      ...      ...        ...   \n",
       "617             poya   -21.35    165.15    19.62       70         51   \n",
       "618        kavaratti  10.5669    72.642    27.13       84         63   \n",
       "619       san julian  21.0167 -102.1667    25.94       32         90   \n",
       "620        namatanai  -3.6667  152.4333    25.22       82        100   \n",
       "621       skibbereen    51.55   -9.2667    18.47       81          0   \n",
       "\n",
       "    Wind Speed Country   Date/Time  \n",
       "0         5.66      MU  1660332771  \n",
       "1         1.03      AR  1660332573  \n",
       "2         5.66      BR  1660332732  \n",
       "3         1.54      US  1660332772  \n",
       "4         6.59      RE  1660332772  \n",
       "..         ...     ...         ...  \n",
       "617        3.4      NC  1660332944  \n",
       "618       6.51      IN  1660332944  \n",
       "619        1.7      MX  1660332944  \n",
       "620       2.54      PG  1660332945  \n",
       "621       1.41      IE  1660332945  \n",
       "\n",
       "[568 rows x 9 columns]"
      ]
     },
     "execution_count": 6,
     "metadata": {},
     "output_type": "execute_result"
    }
   ],
   "source": [
    "weather_data = weather_data[weather_data[\"Lat\"] != \"NA\"]\n",
    "weather_data = weather_data[weather_data[\"Lng\"] != \"NA\"]\n",
    "weather_data = weather_data[weather_data[\"Max Temp\"] != \"NA\"]\n",
    "weather_data = weather_data[weather_data[\"Humidity\"] != \"NA\"]\n",
    "weather_data = weather_data[weather_data[\"Cloudiness\"] != \"NA\"]\n",
    "weather_data = weather_data[weather_data[\"Wind Speed\"] != \"NA\"]\n",
    "weather_data = weather_data[weather_data[\"Country\"] != \"NA\"]\n",
    "weather_data = weather_data[weather_data[\"Date/Time\"] != \"NA\"]\n",
    "weather_data"
   ]
  },
  {
   "cell_type": "markdown",
   "metadata": {},
   "source": [
    "### Convert Raw Data to DataFrame\n",
    "* Export the city data into a .csv.\n",
    "* Display the DataFrame"
   ]
  },
  {
   "cell_type": "code",
   "execution_count": 7,
   "metadata": {},
   "outputs": [
    {
     "data": {
      "text/html": [
       "<div>\n",
       "<style scoped>\n",
       "    .dataframe tbody tr th:only-of-type {\n",
       "        vertical-align: middle;\n",
       "    }\n",
       "\n",
       "    .dataframe tbody tr th {\n",
       "        vertical-align: top;\n",
       "    }\n",
       "\n",
       "    .dataframe thead th {\n",
       "        text-align: right;\n",
       "    }\n",
       "</style>\n",
       "<table border=\"1\" class=\"dataframe\">\n",
       "  <thead>\n",
       "    <tr style=\"text-align: right;\">\n",
       "      <th></th>\n",
       "      <th>City</th>\n",
       "      <th>Lat</th>\n",
       "      <th>Lng</th>\n",
       "      <th>Max Temp</th>\n",
       "      <th>Humidity</th>\n",
       "      <th>Cloudiness</th>\n",
       "      <th>Wind Speed</th>\n",
       "      <th>Country</th>\n",
       "      <th>Date/Time</th>\n",
       "    </tr>\n",
       "  </thead>\n",
       "  <tbody>\n",
       "    <tr>\n",
       "      <th>0</th>\n",
       "      <td>bambous virieux</td>\n",
       "      <td>-20.3428</td>\n",
       "      <td>57.7575</td>\n",
       "      <td>20.68</td>\n",
       "      <td>77</td>\n",
       "      <td>75</td>\n",
       "      <td>5.66</td>\n",
       "      <td>MU</td>\n",
       "      <td>1660332771</td>\n",
       "    </tr>\n",
       "    <tr>\n",
       "      <th>1</th>\n",
       "      <td>ushuaia</td>\n",
       "      <td>-54.8</td>\n",
       "      <td>-68.3</td>\n",
       "      <td>3.81</td>\n",
       "      <td>60</td>\n",
       "      <td>0</td>\n",
       "      <td>1.03</td>\n",
       "      <td>AR</td>\n",
       "      <td>1660332573</td>\n",
       "    </tr>\n",
       "    <tr>\n",
       "      <th>2</th>\n",
       "      <td>belem</td>\n",
       "      <td>-1.4558</td>\n",
       "      <td>-48.5044</td>\n",
       "      <td>30.02</td>\n",
       "      <td>74</td>\n",
       "      <td>40</td>\n",
       "      <td>5.66</td>\n",
       "      <td>BR</td>\n",
       "      <td>1660332732</td>\n",
       "    </tr>\n",
       "    <tr>\n",
       "      <th>3</th>\n",
       "      <td>fairbanks</td>\n",
       "      <td>64.8378</td>\n",
       "      <td>-147.7164</td>\n",
       "      <td>18.9</td>\n",
       "      <td>61</td>\n",
       "      <td>75</td>\n",
       "      <td>1.54</td>\n",
       "      <td>US</td>\n",
       "      <td>1660332772</td>\n",
       "    </tr>\n",
       "    <tr>\n",
       "      <th>4</th>\n",
       "      <td>saint-philippe</td>\n",
       "      <td>-21.3585</td>\n",
       "      <td>55.7679</td>\n",
       "      <td>18.77</td>\n",
       "      <td>79</td>\n",
       "      <td>73</td>\n",
       "      <td>6.59</td>\n",
       "      <td>RE</td>\n",
       "      <td>1660332772</td>\n",
       "    </tr>\n",
       "    <tr>\n",
       "      <th>...</th>\n",
       "      <td>...</td>\n",
       "      <td>...</td>\n",
       "      <td>...</td>\n",
       "      <td>...</td>\n",
       "      <td>...</td>\n",
       "      <td>...</td>\n",
       "      <td>...</td>\n",
       "      <td>...</td>\n",
       "      <td>...</td>\n",
       "    </tr>\n",
       "    <tr>\n",
       "      <th>617</th>\n",
       "      <td>poya</td>\n",
       "      <td>-21.35</td>\n",
       "      <td>165.15</td>\n",
       "      <td>19.62</td>\n",
       "      <td>70</td>\n",
       "      <td>51</td>\n",
       "      <td>3.4</td>\n",
       "      <td>NC</td>\n",
       "      <td>1660332944</td>\n",
       "    </tr>\n",
       "    <tr>\n",
       "      <th>618</th>\n",
       "      <td>kavaratti</td>\n",
       "      <td>10.5669</td>\n",
       "      <td>72.642</td>\n",
       "      <td>27.13</td>\n",
       "      <td>84</td>\n",
       "      <td>63</td>\n",
       "      <td>6.51</td>\n",
       "      <td>IN</td>\n",
       "      <td>1660332944</td>\n",
       "    </tr>\n",
       "    <tr>\n",
       "      <th>619</th>\n",
       "      <td>san julian</td>\n",
       "      <td>21.0167</td>\n",
       "      <td>-102.1667</td>\n",
       "      <td>25.94</td>\n",
       "      <td>32</td>\n",
       "      <td>90</td>\n",
       "      <td>1.7</td>\n",
       "      <td>MX</td>\n",
       "      <td>1660332944</td>\n",
       "    </tr>\n",
       "    <tr>\n",
       "      <th>620</th>\n",
       "      <td>namatanai</td>\n",
       "      <td>-3.6667</td>\n",
       "      <td>152.4333</td>\n",
       "      <td>25.22</td>\n",
       "      <td>82</td>\n",
       "      <td>100</td>\n",
       "      <td>2.54</td>\n",
       "      <td>PG</td>\n",
       "      <td>1660332945</td>\n",
       "    </tr>\n",
       "    <tr>\n",
       "      <th>621</th>\n",
       "      <td>skibbereen</td>\n",
       "      <td>51.55</td>\n",
       "      <td>-9.2667</td>\n",
       "      <td>18.47</td>\n",
       "      <td>81</td>\n",
       "      <td>0</td>\n",
       "      <td>1.41</td>\n",
       "      <td>IE</td>\n",
       "      <td>1660332945</td>\n",
       "    </tr>\n",
       "  </tbody>\n",
       "</table>\n",
       "<p>568 rows × 9 columns</p>\n",
       "</div>"
      ],
      "text/plain": [
       "                City      Lat       Lng Max Temp Humidity Cloudiness  \\\n",
       "0    bambous virieux -20.3428   57.7575    20.68       77         75   \n",
       "1            ushuaia    -54.8     -68.3     3.81       60          0   \n",
       "2              belem  -1.4558  -48.5044    30.02       74         40   \n",
       "3          fairbanks  64.8378 -147.7164     18.9       61         75   \n",
       "4     saint-philippe -21.3585   55.7679    18.77       79         73   \n",
       "..               ...      ...       ...      ...      ...        ...   \n",
       "617             poya   -21.35    165.15    19.62       70         51   \n",
       "618        kavaratti  10.5669    72.642    27.13       84         63   \n",
       "619       san julian  21.0167 -102.1667    25.94       32         90   \n",
       "620        namatanai  -3.6667  152.4333    25.22       82        100   \n",
       "621       skibbereen    51.55   -9.2667    18.47       81          0   \n",
       "\n",
       "    Wind Speed Country   Date/Time  \n",
       "0         5.66      MU  1660332771  \n",
       "1         1.03      AR  1660332573  \n",
       "2         5.66      BR  1660332732  \n",
       "3         1.54      US  1660332772  \n",
       "4         6.59      RE  1660332772  \n",
       "..         ...     ...         ...  \n",
       "617        3.4      NC  1660332944  \n",
       "618       6.51      IN  1660332944  \n",
       "619        1.7      MX  1660332944  \n",
       "620       2.54      PG  1660332945  \n",
       "621       1.41      IE  1660332945  \n",
       "\n",
       "[568 rows x 9 columns]"
      ]
     },
     "execution_count": 7,
     "metadata": {},
     "output_type": "execute_result"
    }
   ],
   "source": [
    "weather_data.to_csv('weather_data_cleaned.csv', index = False)\n",
    "weather_data"
   ]
  },
  {
   "cell_type": "code",
   "execution_count": 8,
   "metadata": {},
   "outputs": [
    {
     "data": {
      "text/html": [
       "<div>\n",
       "<style scoped>\n",
       "    .dataframe tbody tr th:only-of-type {\n",
       "        vertical-align: middle;\n",
       "    }\n",
       "\n",
       "    .dataframe tbody tr th {\n",
       "        vertical-align: top;\n",
       "    }\n",
       "\n",
       "    .dataframe thead th {\n",
       "        text-align: right;\n",
       "    }\n",
       "</style>\n",
       "<table border=\"1\" class=\"dataframe\">\n",
       "  <thead>\n",
       "    <tr style=\"text-align: right;\">\n",
       "      <th></th>\n",
       "      <th>City</th>\n",
       "      <th>Lat</th>\n",
       "      <th>Lng</th>\n",
       "      <th>Max Temp</th>\n",
       "      <th>Humidity</th>\n",
       "      <th>Cloudiness</th>\n",
       "      <th>Wind Speed</th>\n",
       "      <th>Country</th>\n",
       "      <th>Date/Time</th>\n",
       "    </tr>\n",
       "  </thead>\n",
       "  <tbody>\n",
       "    <tr>\n",
       "      <th>count</th>\n",
       "      <td>568</td>\n",
       "      <td>568.0000</td>\n",
       "      <td>568.0000</td>\n",
       "      <td>568.00</td>\n",
       "      <td>568</td>\n",
       "      <td>568</td>\n",
       "      <td>568.00</td>\n",
       "      <td>568</td>\n",
       "      <td>568</td>\n",
       "    </tr>\n",
       "    <tr>\n",
       "      <th>unique</th>\n",
       "      <td>568</td>\n",
       "      <td>568.0000</td>\n",
       "      <td>568.0000</td>\n",
       "      <td>511.00</td>\n",
       "      <td>87</td>\n",
       "      <td>90</td>\n",
       "      <td>342.00</td>\n",
       "      <td>125</td>\n",
       "      <td>231</td>\n",
       "    </tr>\n",
       "    <tr>\n",
       "      <th>top</th>\n",
       "      <td>bambous virieux</td>\n",
       "      <td>-20.3428</td>\n",
       "      <td>57.7575</td>\n",
       "      <td>24.98</td>\n",
       "      <td>87</td>\n",
       "      <td>100</td>\n",
       "      <td>2.57</td>\n",
       "      <td>RU</td>\n",
       "      <td>1660332623</td>\n",
       "    </tr>\n",
       "    <tr>\n",
       "      <th>freq</th>\n",
       "      <td>1</td>\n",
       "      <td>1.0000</td>\n",
       "      <td>1.0000</td>\n",
       "      <td>3.00</td>\n",
       "      <td>23</td>\n",
       "      <td>125</td>\n",
       "      <td>17.00</td>\n",
       "      <td>75</td>\n",
       "      <td>6</td>\n",
       "    </tr>\n",
       "  </tbody>\n",
       "</table>\n",
       "</div>"
      ],
      "text/plain": [
       "                   City       Lat       Lng  Max Temp  Humidity  Cloudiness  \\\n",
       "count               568  568.0000  568.0000    568.00       568         568   \n",
       "unique              568  568.0000  568.0000    511.00        87          90   \n",
       "top     bambous virieux  -20.3428   57.7575     24.98        87         100   \n",
       "freq                  1    1.0000    1.0000      3.00        23         125   \n",
       "\n",
       "        Wind Speed Country   Date/Time  \n",
       "count       568.00     568         568  \n",
       "unique      342.00     125         231  \n",
       "top           2.57      RU  1660332623  \n",
       "freq         17.00      75           6  "
      ]
     },
     "execution_count": 8,
     "metadata": {},
     "output_type": "execute_result"
    }
   ],
   "source": [
    "weather_data.describe()"
   ]
  },
  {
   "cell_type": "markdown",
   "metadata": {},
   "source": [
    "## Inspect the data and remove the cities where the humidity > 100%.\n",
    "----\n",
    "Skip this step if there are no cities that have humidity > 100%. "
   ]
  },
  {
   "cell_type": "code",
   "execution_count": 9,
   "metadata": {},
   "outputs": [
    {
     "data": {
      "text/html": [
       "<div>\n",
       "<style scoped>\n",
       "    .dataframe tbody tr th:only-of-type {\n",
       "        vertical-align: middle;\n",
       "    }\n",
       "\n",
       "    .dataframe tbody tr th {\n",
       "        vertical-align: top;\n",
       "    }\n",
       "\n",
       "    .dataframe thead th {\n",
       "        text-align: right;\n",
       "    }\n",
       "</style>\n",
       "<table border=\"1\" class=\"dataframe\">\n",
       "  <thead>\n",
       "    <tr style=\"text-align: right;\">\n",
       "      <th></th>\n",
       "      <th>City</th>\n",
       "      <th>Lat</th>\n",
       "      <th>Lng</th>\n",
       "      <th>Max Temp</th>\n",
       "      <th>Humidity</th>\n",
       "      <th>Cloudiness</th>\n",
       "      <th>Wind Speed</th>\n",
       "      <th>Country</th>\n",
       "      <th>Date/Time</th>\n",
       "    </tr>\n",
       "  </thead>\n",
       "  <tbody>\n",
       "    <tr>\n",
       "      <th>0</th>\n",
       "      <td>bambous virieux</td>\n",
       "      <td>-20.3428</td>\n",
       "      <td>57.7575</td>\n",
       "      <td>20.68</td>\n",
       "      <td>77</td>\n",
       "      <td>75</td>\n",
       "      <td>5.66</td>\n",
       "      <td>MU</td>\n",
       "      <td>1660332771</td>\n",
       "    </tr>\n",
       "    <tr>\n",
       "      <th>1</th>\n",
       "      <td>ushuaia</td>\n",
       "      <td>-54.8</td>\n",
       "      <td>-68.3</td>\n",
       "      <td>3.81</td>\n",
       "      <td>60</td>\n",
       "      <td>0</td>\n",
       "      <td>1.03</td>\n",
       "      <td>AR</td>\n",
       "      <td>1660332573</td>\n",
       "    </tr>\n",
       "    <tr>\n",
       "      <th>2</th>\n",
       "      <td>belem</td>\n",
       "      <td>-1.4558</td>\n",
       "      <td>-48.5044</td>\n",
       "      <td>30.02</td>\n",
       "      <td>74</td>\n",
       "      <td>40</td>\n",
       "      <td>5.66</td>\n",
       "      <td>BR</td>\n",
       "      <td>1660332732</td>\n",
       "    </tr>\n",
       "    <tr>\n",
       "      <th>3</th>\n",
       "      <td>fairbanks</td>\n",
       "      <td>64.8378</td>\n",
       "      <td>-147.7164</td>\n",
       "      <td>18.9</td>\n",
       "      <td>61</td>\n",
       "      <td>75</td>\n",
       "      <td>1.54</td>\n",
       "      <td>US</td>\n",
       "      <td>1660332772</td>\n",
       "    </tr>\n",
       "    <tr>\n",
       "      <th>4</th>\n",
       "      <td>saint-philippe</td>\n",
       "      <td>-21.3585</td>\n",
       "      <td>55.7679</td>\n",
       "      <td>18.77</td>\n",
       "      <td>79</td>\n",
       "      <td>73</td>\n",
       "      <td>6.59</td>\n",
       "      <td>RE</td>\n",
       "      <td>1660332772</td>\n",
       "    </tr>\n",
       "    <tr>\n",
       "      <th>...</th>\n",
       "      <td>...</td>\n",
       "      <td>...</td>\n",
       "      <td>...</td>\n",
       "      <td>...</td>\n",
       "      <td>...</td>\n",
       "      <td>...</td>\n",
       "      <td>...</td>\n",
       "      <td>...</td>\n",
       "      <td>...</td>\n",
       "    </tr>\n",
       "    <tr>\n",
       "      <th>617</th>\n",
       "      <td>poya</td>\n",
       "      <td>-21.35</td>\n",
       "      <td>165.15</td>\n",
       "      <td>19.62</td>\n",
       "      <td>70</td>\n",
       "      <td>51</td>\n",
       "      <td>3.4</td>\n",
       "      <td>NC</td>\n",
       "      <td>1660332944</td>\n",
       "    </tr>\n",
       "    <tr>\n",
       "      <th>618</th>\n",
       "      <td>kavaratti</td>\n",
       "      <td>10.5669</td>\n",
       "      <td>72.642</td>\n",
       "      <td>27.13</td>\n",
       "      <td>84</td>\n",
       "      <td>63</td>\n",
       "      <td>6.51</td>\n",
       "      <td>IN</td>\n",
       "      <td>1660332944</td>\n",
       "    </tr>\n",
       "    <tr>\n",
       "      <th>619</th>\n",
       "      <td>san julian</td>\n",
       "      <td>21.0167</td>\n",
       "      <td>-102.1667</td>\n",
       "      <td>25.94</td>\n",
       "      <td>32</td>\n",
       "      <td>90</td>\n",
       "      <td>1.7</td>\n",
       "      <td>MX</td>\n",
       "      <td>1660332944</td>\n",
       "    </tr>\n",
       "    <tr>\n",
       "      <th>620</th>\n",
       "      <td>namatanai</td>\n",
       "      <td>-3.6667</td>\n",
       "      <td>152.4333</td>\n",
       "      <td>25.22</td>\n",
       "      <td>82</td>\n",
       "      <td>100</td>\n",
       "      <td>2.54</td>\n",
       "      <td>PG</td>\n",
       "      <td>1660332945</td>\n",
       "    </tr>\n",
       "    <tr>\n",
       "      <th>621</th>\n",
       "      <td>skibbereen</td>\n",
       "      <td>51.55</td>\n",
       "      <td>-9.2667</td>\n",
       "      <td>18.47</td>\n",
       "      <td>81</td>\n",
       "      <td>0</td>\n",
       "      <td>1.41</td>\n",
       "      <td>IE</td>\n",
       "      <td>1660332945</td>\n",
       "    </tr>\n",
       "  </tbody>\n",
       "</table>\n",
       "<p>568 rows × 9 columns</p>\n",
       "</div>"
      ],
      "text/plain": [
       "                City      Lat       Lng Max Temp Humidity Cloudiness  \\\n",
       "0    bambous virieux -20.3428   57.7575    20.68       77         75   \n",
       "1            ushuaia    -54.8     -68.3     3.81       60          0   \n",
       "2              belem  -1.4558  -48.5044    30.02       74         40   \n",
       "3          fairbanks  64.8378 -147.7164     18.9       61         75   \n",
       "4     saint-philippe -21.3585   55.7679    18.77       79         73   \n",
       "..               ...      ...       ...      ...      ...        ...   \n",
       "617             poya   -21.35    165.15    19.62       70         51   \n",
       "618        kavaratti  10.5669    72.642    27.13       84         63   \n",
       "619       san julian  21.0167 -102.1667    25.94       32         90   \n",
       "620        namatanai  -3.6667  152.4333    25.22       82        100   \n",
       "621       skibbereen    51.55   -9.2667    18.47       81          0   \n",
       "\n",
       "    Wind Speed Country   Date/Time  \n",
       "0         5.66      MU  1660332771  \n",
       "1         1.03      AR  1660332573  \n",
       "2         5.66      BR  1660332732  \n",
       "3         1.54      US  1660332772  \n",
       "4         6.59      RE  1660332772  \n",
       "..         ...     ...         ...  \n",
       "617        3.4      NC  1660332944  \n",
       "618       6.51      IN  1660332944  \n",
       "619        1.7      MX  1660332944  \n",
       "620       2.54      PG  1660332945  \n",
       "621       1.41      IE  1660332945  \n",
       "\n",
       "[568 rows x 9 columns]"
      ]
     },
     "execution_count": 9,
     "metadata": {},
     "output_type": "execute_result"
    }
   ],
   "source": [
    "weather_data = weather_data[weather_data[\"Humidity\"] < 101]\n",
    "weather_data"
   ]
  },
  {
   "cell_type": "markdown",
   "metadata": {},
   "source": [
    "## Plotting the Data\n",
    "* Use proper labeling of the plots using plot titles (including date of analysis) and axes labels.\n",
    "* Save the plotted figures as .pngs."
   ]
  },
  {
   "cell_type": "markdown",
   "metadata": {},
   "source": [
    "## Latitude vs. Temperature Plot"
   ]
  },
  {
   "cell_type": "code",
   "execution_count": 81,
   "metadata": {},
   "outputs": [
    {
     "data": {
      "image/png": "[encoded data removed]",
      "text/plain": [
       "<Figure size 432x288 with 1 Axes>"
      ]
     },
     "metadata": {
      "needs_background": "light"
     },
     "output_type": "display_data"
    }
   ],
   "source": [
    "# Create a Scatter Plot for temperature vs latitude\n",
    "x_values = weather_data['Lat']\n",
    "y_values = weather_data['Max Temp']\n",
    "plt.scatter(x_values,y_values)\n",
    "plt.xlabel('Latitude')\n",
    "plt.ylabel('Max Temperature')\n",
    "plt.title('City Latitude vs. Max Temperature (8/9/2022)')\n",
    "plt.grid()\n",
    "plt.savefig(\"City Latitude vs. Max Temperature.png\")\n",
    "plt.show()"
   ]
  },
  {
   "cell_type": "markdown",
   "metadata": {},
   "source": [
    "## Latitude vs. Humidity Plot"
   ]
  },
  {
   "cell_type": "code",
   "execution_count": 82,
   "metadata": {},
   "outputs": [
    {
     "data": {
      "image/png": "[encoded data removed]",
      "text/plain": [
       "<Figure size 432x288 with 1 Axes>"
      ]
     },
     "metadata": {
      "needs_background": "light"
     },
     "output_type": "display_data"
    }
   ],
   "source": [
    "# Create a Scatter Plot for humidity vs latitude\n",
    "x_values = weather_data['Lat']\n",
    "y_values = weather_data['Humidity']\n",
    "plt.scatter(x_values,y_values)\n",
    "plt.xlabel('Latitude')\n",
    "plt.ylabel('Humidity (%)')\n",
    "plt.title('City Latitude vs. Humidity (8/9/2022)')\n",
    "plt.grid()\n",
    "plt.savefig(\"City Latitude vs. Humidity.png\")\n",
    "plt.show()"
   ]
  },
  {
   "cell_type": "markdown",
   "metadata": {},
   "source": [
    "## Latitude vs. Cloudiness Plot"
   ]
  },
  {
   "cell_type": "code",
   "execution_count": 83,
   "metadata": {},
   "outputs": [
    {
     "data": {
      "image/png": "[encoded data removed]",
      "text/plain": [
       "<Figure size 432x288 with 1 Axes>"
      ]
     },
     "metadata": {
      "needs_background": "light"
     },
     "output_type": "display_data"
    }
   ],
   "source": [
    "# Create a Scatter Plot for humidity vs cloudiness\n",
    "x_values = weather_data['Lat']\n",
    "y_values = weather_data['Cloudiness']\n",
    "plt.scatter(x_values,y_values)\n",
    "plt.xlabel('Latitude')\n",
    "plt.ylabel('Cloudiness (%)')\n",
    "plt.title('City Latitude vs. Cloudiness (8/9/2022)')\n",
    "plt.grid()\n",
    "plt.savefig(\"City Latitude vs. Cloudiness.png\")\n",
    "plt.show()"
   ]
  },
  {
   "cell_type": "markdown",
   "metadata": {},
   "source": [
    "## Latitude vs. Wind Speed Plot"
   ]
  },
  {
   "cell_type": "code",
   "execution_count": 84,
   "metadata": {},
   "outputs": [
    {
     "data": {
      "image/png": "[encoded data removed]",
      "text/plain": [
       "<Figure size 432x288 with 1 Axes>"
      ]
     },
     "metadata": {
      "needs_background": "light"
     },
     "output_type": "display_data"
    }
   ],
   "source": [
    "# Create a Scatter Plot for humidity vs wind speed\n",
    "x_values = weather_data['Lat']\n",
    "y_values = weather_data['Wind Speed']\n",
    "plt.scatter(x_values,y_values)\n",
    "plt.xlabel('Latitude')\n",
    "plt.ylabel('Wind Speed')\n",
    "plt.title('City Latitude vs. Wind Speed (8/9/2022)')\n",
    "plt.grid()\n",
    "plt.savefig(\"City Latitude vs. Wind Speed.png\")\n",
    "plt.show()"
   ]
  },
  {
   "cell_type": "markdown",
   "metadata": {},
   "source": [
    "## Linear Regression"
   ]
  },
  {
   "cell_type": "code",
   "execution_count": 24,
   "metadata": {},
   "outputs": [],
   "source": []
  },
  {
   "cell_type": "markdown",
   "metadata": {},
   "source": [
    "####  Northern Hemisphere - Max Temp vs. Latitude Linear Regression"
   ]
  },
  {
   "cell_type": "code",
   "execution_count": 86,
   "metadata": {},
   "outputs": [
    {
     "name": "stdout",
     "output_type": "stream",
     "text": [
      "The r-value is: -0.7233620223567583\n"
     ]
    },
    {
     "data": {
      "image/png": "[encoded data removed]",
      "text/plain": [
       "<Figure size 432x288 with 1 Axes>"
      ]
     },
     "metadata": {
      "needs_background": "light"
     },
     "output_type": "display_data"
    }
   ],
   "source": [
    "# Create a Scatter Plot for Max Temp vs positive latitude\n",
    "weather_data_pos_lat = weather_data[weather_data[\"Lat\"] > 0]\n",
    "\n",
    "# Make sure necessary columns are floats\n",
    "weather_data_pos_lat = weather_data_pos_lat.astype({'Lat':'float'})\n",
    "weather_data_pos_lat = weather_data_pos_lat.astype({'Max Temp':'float'})\n",
    "\n",
    "x_values = weather_data_pos_lat['Lat']\n",
    "y_values = weather_data_pos_lat['Max Temp']\n",
    "\n",
    "plt.xlabel('Latitude')\n",
    "plt.ylabel('Max Temp')\n",
    "plt.title('Northern Hemisphere - Max Temp vs. Latitude Linear Regression')\n",
    "plt.scatter(x_values,y_values,c='b')\n",
    "\n",
    "(slope, intercept, rvalue, pvalue, stderr) = linregress(x_values, y_values)\n",
    "regress_values = x_values * slope + intercept\n",
    "line_eq = \"y = \" + str(round(slope,2)) + \"x + \" + str(round(intercept,2))\n",
    "plt.scatter(x_values,y_values)\n",
    "plt.plot(x_values,regress_values,\"r-\")\n",
    "plt.annotate(line_eq,(5.8,5),fontsize=15,color=\"red\")\n",
    "\n",
    "\n",
    "plt.savefig(\"Northern Hemisphere - Max Temp vs. Latitude Linear Regression.png\")\n",
    "print(\"The r-value is: \" + str(rvalue))\n",
    "plt.show()\n"
   ]
  },
  {
   "cell_type": "markdown",
   "metadata": {},
   "source": [
    "####  Southern Hemisphere - Max Temp vs. Latitude Linear Regression"
   ]
  },
  {
   "cell_type": "code",
   "execution_count": 87,
   "metadata": {},
   "outputs": [
    {
     "name": "stdout",
     "output_type": "stream",
     "text": [
      "The r-value is: 0.8144928064711142\n"
     ]
    },
    {
     "data": {
      "image/png": "[encoded data removed]",
      "text/plain": [
       "<Figure size 432x288 with 1 Axes>"
      ]
     },
     "metadata": {
      "needs_background": "light"
     },
     "output_type": "display_data"
    }
   ],
   "source": [
    "# Create a Scatter Plot for Max Temp vs negative latitude\n",
    "weather_data_neg_lat = weather_data[weather_data[\"Lat\"] < 0]\n",
    "\n",
    "# Make sure necessary columns are floats\n",
    "weather_data_neg_lat = weather_data_neg_lat.astype({'Lat':'float'})\n",
    "weather_data_neg_lat = weather_data_neg_lat.astype({'Max Temp':'float'})\n",
    "\n",
    "x_values = weather_data_neg_lat['Lat']\n",
    "y_values = weather_data_neg_lat['Max Temp']\n",
    "\n",
    "plt.xlabel('Latitude')\n",
    "plt.ylabel('Max Temp')\n",
    "plt.title('Southern Hemisphere - Max Temp vs. Latitude Linear Regression')\n",
    "plt.scatter(x_values,y_values,c='b')\n",
    "\n",
    "(slope, intercept, rvalue, pvalue, stderr) = linregress(x_values, y_values)\n",
    "regress_values = x_values * slope + intercept\n",
    "line_eq = \"y = \" + str(round(slope,2)) + \"x + \" + str(round(intercept,2))\n",
    "plt.scatter(x_values,y_values)\n",
    "plt.plot(x_values,regress_values,\"r-\")\n",
    "plt.annotate(line_eq,(-50,30),fontsize=15,color=\"red\")\n",
    "\n",
    "plt.savefig(\"Southern Hemisphere - Max Temp vs. Latitude Linear Regression.png\")\n",
    "print(\"The r-value is: \" + str(rvalue))\n",
    "plt.show()"
   ]
  },
  {
   "cell_type": "markdown",
   "metadata": {},
   "source": [
    "####  Northern Hemisphere - Humidity (%) vs. Latitude Linear Regression"
   ]
  },
  {
   "cell_type": "code",
   "execution_count": 88,
   "metadata": {},
   "outputs": [
    {
     "name": "stdout",
     "output_type": "stream",
     "text": [
      "The r-value is: 0.05150722417046807\n"
     ]
    },
    {
     "data": {
      "image/png": "[encoded data removed]",
      "text/plain": [
       "<Figure size 432x288 with 1 Axes>"
      ]
     },
     "metadata": {
      "needs_background": "light"
     },
     "output_type": "display_data"
    }
   ],
   "source": [
    "# Create a Scatter Plot for Humidity vs positive latitude\n",
    "weather_data_pos_lat = weather_data[weather_data[\"Lat\"] > 0]\n",
    "\n",
    "# Make sure necessary columns are floats\n",
    "weather_data_pos_lat = weather_data_pos_lat.astype({'Lat':'float'})\n",
    "weather_data_pos_lat = weather_data_pos_lat.astype({'Humidity':'float'})\n",
    "\n",
    "x_values = weather_data_pos_lat['Lat']\n",
    "y_values = weather_data_pos_lat['Humidity']\n",
    "\n",
    "plt.xlabel('Latitude')\n",
    "plt.ylabel('Humidity')\n",
    "plt.title('Northern Hemisphere - Humidity (%) vs. Latitude Linear Regression')\n",
    "plt.scatter(x_values,y_values,c='b')\n",
    "\n",
    "(slope, intercept, rvalue, pvalue, stderr) = linregress(x_values, y_values)\n",
    "regress_values = x_values * slope + intercept\n",
    "line_eq = \"y = \" + str(round(slope,2)) + \"x + \" + str(round(intercept,2))\n",
    "plt.scatter(x_values,y_values)\n",
    "plt.plot(x_values,regress_values,\"r-\")\n",
    "plt.annotate(line_eq,(45,10),fontsize=15,color=\"red\")\n",
    "\n",
    "plt.savefig(\"Northern Hemisphere - Humidity (%) vs. Latitude Linear Regression.png\")\n",
    "print(\"The r-value is: \" + str(rvalue))\n",
    "plt.show()"
   ]
  },
  {
   "cell_type": "markdown",
   "metadata": {},
   "source": [
    "####  Southern Hemisphere - Humidity (%) vs. Latitude Linear Regression"
   ]
  },
  {
   "cell_type": "code",
   "execution_count": 89,
   "metadata": {},
   "outputs": [
    {
     "name": "stdout",
     "output_type": "stream",
     "text": [
      "The r-value is: -0.11071411414182737\n"
     ]
    },
    {
     "data": {
      "image/png": "[encoded data removed]",
      "text/plain": [
       "<Figure size 432x288 with 1 Axes>"
      ]
     },
     "metadata": {
      "needs_background": "light"
     },
     "output_type": "display_data"
    }
   ],
   "source": [
    "# Create a Scatter Plot for Humidity vs negative latitude\n",
    "weather_data_neg_lat = weather_data[weather_data[\"Lat\"] < 0]\n",
    "\n",
    "# Make sure necessary columns are floats\n",
    "weather_data_neg_lat = weather_data_neg_lat.astype({'Lat':'float'})\n",
    "weather_data_neg_lat = weather_data_neg_lat.astype({'Humidity':'float'})\n",
    "\n",
    "x_values = weather_data_neg_lat['Lat']\n",
    "y_values = weather_data_neg_lat['Humidity']\n",
    "\n",
    "plt.xlabel('Latitude')\n",
    "plt.ylabel('Humidity')\n",
    "plt.title('Southern Hemisphere - Humidity (%) vs. Latitude Linear Regression')\n",
    "plt.scatter(x_values,y_values,c='b')\n",
    "\n",
    "(slope, intercept, rvalue, pvalue, stderr) = linregress(x_values, y_values)\n",
    "regress_values = x_values * slope + intercept\n",
    "line_eq = \"y = \" + str(round(slope,2)) + \"x + \" + str(round(intercept,2))\n",
    "plt.scatter(x_values,y_values)\n",
    "plt.plot(x_values,regress_values,\"r-\")\n",
    "plt.annotate(line_eq,(-50,15),fontsize=15,color=\"red\")\n",
    "\n",
    "plt.savefig(\"Southern Hemisphere - Humidity (%) vs. Latitude Linear Regression.png\")\n",
    "print(\"The r-value is: \" + str(rvalue))\n",
    "plt.show()"
   ]
  },
  {
   "cell_type": "markdown",
   "metadata": {},
   "source": [
    "####  Northern Hemisphere - Cloudiness (%) vs. Latitude Linear Regression"
   ]
  },
  {
   "cell_type": "code",
   "execution_count": 92,
   "metadata": {},
   "outputs": [
    {
     "name": "stdout",
     "output_type": "stream",
     "text": [
      "The r-value is: -0.06701665013168975\n"
     ]
    },
    {
     "data": {
      "image/png": "[encoded data removed]",
      "text/plain": [
       "<Figure size 432x288 with 1 Axes>"
      ]
     },
     "metadata": {
      "needs_background": "light"
     },
     "output_type": "display_data"
    }
   ],
   "source": [
    "# Create a Scatter Plot for Cloudiness vs positive latitude\n",
    "weather_data_pos_lat = weather_data[weather_data[\"Lat\"] > 0]\n",
    "\n",
    "# Make sure necessary columns are floats\n",
    "weather_data_pos_lat = weather_data_pos_lat.astype({'Lat':'float'})\n",
    "weather_data_pos_lat = weather_data_pos_lat.astype({'Cloudiness':'float'})\n",
    "\n",
    "x_values = weather_data_pos_lat['Lat']\n",
    "y_values = weather_data_pos_lat['Cloudiness']\n",
    "\n",
    "plt.xlabel('Latitude')\n",
    "plt.ylabel('Cloudiness')\n",
    "plt.title('Northern Hemisphere - Cloudiness (%) vs. Latitude Linear Regression')\n",
    "plt.scatter(x_values,y_values,c='b')\n",
    "\n",
    "(slope, intercept, rvalue, pvalue, stderr) = linregress(x_values, y_values)\n",
    "regress_values = x_values * slope + intercept\n",
    "line_eq = \"y = \" + str(round(slope,2)) + \"x + \" + str(round(intercept,2))\n",
    "plt.scatter(x_values,y_values)\n",
    "plt.plot(x_values,regress_values,\"r-\")\n",
    "plt.annotate(line_eq,(45,30),fontsize=15,color=\"red\")\n",
    "\n",
    "plt.savefig(\"Northern Hemisphere - Cloudiness (%) vs. Latitude Linear Regression.png\")\n",
    "print(\"The r-value is: \" + str(rvalue))\n",
    "plt.show()"
   ]
  },
  {
   "cell_type": "markdown",
   "metadata": {},
   "source": [
    "####  Southern Hemisphere - Cloudiness (%) vs. Latitude Linear Regression"
   ]
  },
  {
   "cell_type": "code",
   "execution_count": 93,
   "metadata": {},
   "outputs": [
    {
     "name": "stdout",
     "output_type": "stream",
     "text": [
      "The r-value is: -0.14640299372642365\n"
     ]
    },
    {
     "data": {
      "image/png": "[encoded data removed]",
      "text/plain": [
       "<Figure size 432x288 with 1 Axes>"
      ]
     },
     "metadata": {
      "needs_background": "light"
     },
     "output_type": "display_data"
    }
   ],
   "source": [
    "# Create a Scatter Plot for Cloudiness vs negative latitude\n",
    "weather_data_neg_lat = weather_data[weather_data[\"Lat\"] < 0]\n",
    "\n",
    "# Make sure necessary columns are floats\n",
    "weather_data_neg_lat = weather_data_neg_lat.astype({'Lat':'float'})\n",
    "weather_data_neg_lat = weather_data_neg_lat.astype({'Cloudiness':'float'})\n",
    "\n",
    "x_values = weather_data_neg_lat['Lat']\n",
    "y_values = weather_data_neg_lat['Cloudiness']\n",
    "\n",
    "plt.xlabel('Latitude')\n",
    "plt.ylabel('Cloudiness')\n",
    "plt.title('Southern Hemisphere - Cloudiness (%) vs. Latitude Linear Regression')\n",
    "plt.scatter(x_values,y_values,c='b')\n",
    "\n",
    "(slope, intercept, rvalue, pvalue, stderr) = linregress(x_values, y_values)\n",
    "regress_values = x_values * slope + intercept\n",
    "line_eq = \"y = \" + str(round(slope,2)) + \"x + \" + str(round(intercept,2))\n",
    "plt.scatter(x_values,y_values)\n",
    "plt.plot(x_values,regress_values,\"r-\")\n",
    "plt.annotate(line_eq,(-45,10),fontsize=15,color=\"red\")\n",
    "\n",
    "plt.savefig(\"Southern Hemisphere - Cloudiness (%) vs. Latitude Linear Regression.png\")\n",
    "print(\"The r-value is: \" + str(rvalue))\n",
    "plt.show()"
   ]
  },
  {
   "cell_type": "markdown",
   "metadata": {},
   "source": [
    "####  Northern Hemisphere - Wind Speed (mph) vs. Latitude Linear Regression"
   ]
  },
  {
   "cell_type": "code",
   "execution_count": 94,
   "metadata": {},
   "outputs": [
    {
     "name": "stdout",
     "output_type": "stream",
     "text": [
      "The r-value is: 0.08386649952729802\n"
     ]
    },
    {
     "data": {
      "image/png": "[encoded data removed]",
      "text/plain": [
       "<Figure size 432x288 with 1 Axes>"
      ]
     },
     "metadata": {
      "needs_background": "light"
     },
     "output_type": "display_data"
    }
   ],
   "source": [
    "# Create a Scatter Plot for wind speed vs positive latitude\n",
    "weather_data_pos_lat = weather_data[weather_data[\"Lat\"] > 0]\n",
    "\n",
    "# Make sure necessary columns are floats\n",
    "weather_data_pos_lat = weather_data_pos_lat.astype({'Lat':'float'})\n",
    "weather_data_pos_lat = weather_data_pos_lat.astype({'Wind Speed':'float'})\n",
    "\n",
    "x_values = weather_data_pos_lat['Lat']\n",
    "y_values = weather_data_pos_lat['Wind Speed']\n",
    "\n",
    "plt.xlabel('Latitude')\n",
    "plt.ylabel('Wind Speed')\n",
    "plt.title('Northern Hemisphere - Wind Speed (mph) vs. Latitude Linear Regression')\n",
    "plt.scatter(x_values,y_values,c='b')\n",
    "\n",
    "(slope, intercept, rvalue, pvalue, stderr) = linregress(x_values, y_values)\n",
    "regress_values = x_values * slope + intercept\n",
    "line_eq = \"y = \" + str(round(slope,2)) + \"x + \" + str(round(intercept,2))\n",
    "plt.scatter(x_values,y_values)\n",
    "plt.plot(x_values,regress_values,\"r-\")\n",
    "plt.annotate(line_eq,(20,12),fontsize=15,color=\"red\")\n",
    "\n",
    "plt.savefig(\"Northern Hemisphere - Wind Speed (mph) vs. Latitude Linear Regression.png\")\n",
    "print(\"The r-value is: \" + str(rvalue))\n",
    "plt.show()"
   ]
  },
  {
   "cell_type": "markdown",
   "metadata": {},
   "source": [
    "####  Southern Hemisphere - Wind Speed (mph) vs. Latitude Linear Regression"
   ]
  },
  {
   "cell_type": "code",
   "execution_count": 95,
   "metadata": {},
   "outputs": [
    {
     "name": "stdout",
     "output_type": "stream",
     "text": [
      "The r-value is: -0.10461016696592271\n"
     ]
    },
    {
     "data": {
      "image/png": "[encoded data removed]",
      "text/plain": [
       "<Figure size 432x288 with 1 Axes>"
      ]
     },
     "metadata": {
      "needs_background": "light"
     },
     "output_type": "display_data"
    }
   ],
   "source": [
    "# Create a Scatter Plot for wind speed vs negative latitude\n",
    "weather_data_neg_lat = weather_data[weather_data[\"Lat\"] < 0]\n",
    "\n",
    "# Make sure necessary columns are floats\n",
    "weather_data_neg_lat = weather_data_neg_lat.astype({'Lat':'float'})\n",
    "weather_data_neg_lat = weather_data_neg_lat.astype({'Wind Speed':'float'})\n",
    "\n",
    "x_values = weather_data_neg_lat['Lat']\n",
    "y_values = weather_data_neg_lat['Wind Speed']\n",
    "\n",
    "plt.xlabel('Latitude')\n",
    "plt.ylabel('Wind Speed')\n",
    "plt.title('Southern Hemisphere - Wind Speed (mph) vs. Latitude Linear Regression')\n",
    "plt.scatter(x_values,y_values,c='b')\n",
    "\n",
    "(slope, intercept, rvalue, pvalue, stderr) = linregress(x_values, y_values)\n",
    "regress_values = x_values * slope + intercept\n",
    "line_eq = \"y = \" + str(round(slope,2)) + \"x + \" + str(round(intercept,2))\n",
    "plt.scatter(x_values,y_values)\n",
    "plt.plot(x_values,regress_values,\"r-\")\n",
    "plt.annotate(line_eq,(-40,12),fontsize=15,color=\"red\")\n",
    "\n",
    "plt.savefig(\"Southern Hemisphere - Wind Speed (mph) vs. Latitude Linear Regression.png\")\n",
    "print(\"The r-value is: \" + str(rvalue))\n",
    "plt.show()"
   ]
  },
  {
   "cell_type": "markdown",
   "metadata": {},
   "source": [
    "### Analysis"
   ]
  },
  {
   "cell_type": "markdown",
   "metadata": {},
   "source": [
    "1. Max temp clearly increases as you reach the equator and decreases as you go towards one of the poles. Both hemispheres show this pattern.\n",
    "2. Latitude has very little effect on wind speed. This is observable for both hemispheres, and makes sense because high winds can exist in both extremely cold and warm environments.\n",
    "3. The data taken for cloudiness is often rounded to very distinct levels, likely due to an observer approximating the value to the nearest ten, with the most common values being 100 or 0."
   ]
  },
  {
   "cell_type": "code",
   "execution_count": null,
   "metadata": {},
   "outputs": [],
   "source": []
  }
 ],
 "metadata": {
  "anaconda-cloud": {},
  "kernel_info": {
   "name": "python3"
  },
  "kernelspec": {
   "display_name": "Python 3 (ipykernel)",
   "language": "python",
   "name": "python3"
  },
  "language_info": {
   "codemirror_mode": {
    "name": "ipython",
    "version": 3
   },
   "file_extension": ".py",
   "mimetype": "text/x-python",
   "name": "python",
   "nbconvert_exporter": "python",
   "pygments_lexer": "ipython3",
   "version": "3.8.13"
  },
  "latex_envs": {
   "LaTeX_envs_menu_present": true,
   "autoclose": false,
   "autocomplete": true,
   "bibliofile": "biblio.bib",
   "cite_by": "apalike",
   "current_citInitial": 1,
   "eqLabelWithNumbers": true,
   "eqNumInitial": 1,
   "hotkeys": {
    "equation": "Ctrl-E",
    "itemize": "Ctrl-I"
   },
   "labels_anchors": false,
   "latex_user_defs": false,
   "report_style_numbering": false,
   "user_envs_cfg": false
  },
  "nteract": {
   "version": "0.12.3"
  }
 },
 "nbformat": 4,
 "nbformat_minor": 2
}
